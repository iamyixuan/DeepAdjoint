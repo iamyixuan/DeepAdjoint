{
 "cells": [
  {
   "attachments": {},
   "cell_type": "markdown",
   "metadata": {},
   "source": [
    "# Explore the dataset"
   ]
  },
  {
   "cell_type": "code",
   "execution_count": 2,
   "metadata": {},
   "outputs": [],
   "source": [
    "import numpy as np\n",
    "import h5py\n",
    "import matplotlib.pyplot as plt"
   ]
  },
  {
   "cell_type": "code",
   "execution_count": 11,
   "metadata": {},
   "outputs": [
    {
     "name": "stdout",
     "output_type": "stream",
     "text": [
      "<KeysViewHDF5 ['forward_0', 'forward_1', 'forward_10', 'forward_100', 'forward_101', 'forward_102', 'forward_103', 'forward_104', 'forward_105', 'forward_106', 'forward_107', 'forward_108', 'forward_109', 'forward_11', 'forward_110', 'forward_111', 'forward_112', 'forward_113', 'forward_114', 'forward_115', 'forward_116', 'forward_117', 'forward_118', 'forward_119', 'forward_12', 'forward_120', 'forward_121', 'forward_122', 'forward_123', 'forward_124', 'forward_125', 'forward_126', 'forward_127', 'forward_128', 'forward_129', 'forward_13', 'forward_130', 'forward_131', 'forward_132', 'forward_133', 'forward_134', 'forward_135', 'forward_136', 'forward_137', 'forward_138', 'forward_139', 'forward_14', 'forward_140', 'forward_141', 'forward_142', 'forward_143', 'forward_144', 'forward_145', 'forward_146', 'forward_147', 'forward_148', 'forward_149', 'forward_15', 'forward_150', 'forward_151', 'forward_152', 'forward_153', 'forward_154', 'forward_155', 'forward_156', 'forward_157', 'forward_158', 'forward_159', 'forward_16', 'forward_160', 'forward_161', 'forward_162', 'forward_163', 'forward_164', 'forward_165', 'forward_166', 'forward_167', 'forward_168', 'forward_169', 'forward_17', 'forward_170', 'forward_171', 'forward_172', 'forward_173', 'forward_174', 'forward_175', 'forward_176', 'forward_177', 'forward_178', 'forward_179', 'forward_18', 'forward_180', 'forward_181', 'forward_19', 'forward_2', 'forward_20', 'forward_21', 'forward_22', 'forward_23', 'forward_24', 'forward_25', 'forward_26', 'forward_27', 'forward_28', 'forward_29', 'forward_3', 'forward_30', 'forward_31', 'forward_32', 'forward_33', 'forward_34', 'forward_35', 'forward_36', 'forward_37', 'forward_38', 'forward_39', 'forward_4', 'forward_40', 'forward_41', 'forward_42', 'forward_43', 'forward_44', 'forward_45', 'forward_46', 'forward_47', 'forward_48', 'forward_49', 'forward_5', 'forward_50', 'forward_51', 'forward_52', 'forward_53', 'forward_54', 'forward_55', 'forward_56', 'forward_57', 'forward_58', 'forward_59', 'forward_6', 'forward_60', 'forward_61', 'forward_62', 'forward_63', 'forward_64', 'forward_65', 'forward_66', 'forward_67', 'forward_68', 'forward_69', 'forward_7', 'forward_70', 'forward_71', 'forward_72', 'forward_73', 'forward_74', 'forward_75', 'forward_76', 'forward_77', 'forward_78', 'forward_79', 'forward_8', 'forward_80', 'forward_81', 'forward_82', 'forward_83', 'forward_84', 'forward_85', 'forward_86', 'forward_87', 'forward_88', 'forward_89', 'forward_9', 'forward_90', 'forward_91', 'forward_92', 'forward_93', 'forward_94', 'forward_95', 'forward_96', 'forward_97', 'forward_98', 'forward_99']>\n",
      "182\n"
     ]
    }
   ],
   "source": [
    "# Load the data set\n",
    "\n",
    "data = h5py.File('../data/SOMA/init_data/thedataset.hdf5', 'r')\n",
    "print(data.keys())\n",
    "print(len(data.keys()))"
   ]
  },
  {
   "cell_type": "code",
   "execution_count": 20,
   "metadata": {},
   "outputs": [
    {
     "name": "stdout",
     "output_type": "stream",
     "text": [
      "(3, 185, 309, 60, 15)\n",
      "[[0. 0. 0. ... 0. 0. 0.]\n",
      " [0. 0. 0. ... 0. 0. 0.]\n",
      " [0. 0. 0. ... 0. 0. 0.]\n",
      " ...\n",
      " [0. 0. 0. ... 0. 0. 0.]\n",
      " [0. 0. 0. ... 0. 0. 0.]\n",
      " [0. 0. 0. ... 0. 0. 0.]]\n",
      "[0.]\n"
     ]
    }
   ],
   "source": [
    "forward_0 = data['forward_0']['month_0']\n",
    "print(forward_0.shape)\n",
    "print(forward_0[0, :, :, 20, 13])\n",
    "print(np.unique(forward_0))\n",
    "# fig, ax = plt.subplots()\n",
    "# ax.imshow(forward_0[1,:,:,0,10])\n"
   ]
  }
 ],
 "metadata": {
  "kernelspec": {
   "display_name": "deeplearning",
   "language": "python",
   "name": "python3"
  },
  "language_info": {
   "codemirror_mode": {
    "name": "ipython",
    "version": 3
   },
   "file_extension": ".py",
   "mimetype": "text/x-python",
   "name": "python",
   "nbconvert_exporter": "python",
   "pygments_lexer": "ipython3",
   "version": "3.8.15"
  },
  "orig_nbformat": 4
 },
 "nbformat": 4,
 "nbformat_minor": 2
}
